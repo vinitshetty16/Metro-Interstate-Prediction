{
 "cells": [
  {
   "cell_type": "markdown",
   "id": "c04030b3",
   "metadata": {},
   "source": [
    "# Problem Statement"
   ]
  },
  {
   "cell_type": "markdown",
   "id": "9616d8f1",
   "metadata": {},
   "source": [
    "Traffic congestion is increasingly problematic in urban environments due to rising population density and urban sprawl. This congestion leads to significant delays, heightened stress, and economic losses. Despite advances in traffic monitoring and data collection, predicting traffic patterns remains a complex challenge.\n",
    "\n",
    "The Metro Interstate Traffic Volume dataset provides detailed records of traffic flow on interstate highways, including time-stamped traffic volume measurements and various influencing factors like weather conditions, time of day, and special events. \n",
    "\n",
    "The core problem is to build an effective machine learning model that can accurately predict future traffic volumes. This involves selecting appropriate algorithms, fine-tuning model parameters, and validating performance to ensure reliable predictions. By accurately forecasting traffic conditions, the model aims to support better traffic management strategies, reduce congestion, and enhance overall urban mobility."
   ]
  },
  {
   "cell_type": "markdown",
   "id": "733a087c",
   "metadata": {},
   "source": [
    "## Feature Description"
   ]
  },
  {
   "cell_type": "markdown",
   "id": "34e754bf",
   "metadata": {},
   "source": [
    "- **holiday**: Categorical - US National holidays plus regional holiday, Minnesota State Fair\n",
    "- **temp**: Numeric - Average temperature in Kelvin\n",
    "- **rain_1h**: Numeric - Amount in mm of rain that occurred in the hour\n",
    "- **snow_1h**: Numeric - Amount in mm of snow that occurred in the hour\n",
    "- **clouds_all**: Numeric - Percentage of cloud cover\n",
    "- **weather_main**: Categorical - Short textual description of the current weather\n",
    "- **weather_description**: Categorical - Longer textual description of the current weather\n",
    "- **date_time**: DateTime - Hour of the data collected in local CST time\n",
    "- **traffic_volume**: Numeric - Hourly I-94 ATR 301 reported westbound traffic volume"
   ]
  },
  {
   "cell_type": "markdown",
   "id": "d27a281e",
   "metadata": {},
   "source": [
    "## Loading Important Libraries"
   ]
  },
  {
   "cell_type": "code",
   "execution_count": 1,
   "id": "baf8a991-326e-476c-8d46-b2072c7847d7",
   "metadata": {},
   "outputs": [],
   "source": [
    "from sklearn.model_selection import cross_val_score\n",
    "from sklearn.model_selection import GridSearchCV\n",
    "import pandas as pd\n",
    "from sklearn.model_selection import KFold\n",
    "# ^^^ pyforest auto-imports - don't write above this line\n",
    "# Libraries for data access and manipulation\n",
    "from astrapy import DataAPIClient\n",
    "\n",
    "# Libraries for data visualization\n",
    "import seaborn as sns\n",
    "import matplotlib.pyplot as plt\n",
    "import plotly.express as px\n",
    "%matplotlib inline\n",
    "\n",
    "\n",
    "# Libraries for data processing and machine learning\n",
    "import numpy as np\n",
    "from sklearn import metrics\n",
    "from sklearn.ensemble import RandomForestRegressor\n",
    "from sklearn.model_selection import train_test_split\n",
    "from sklearn.metrics import mean_absolute_error, classification_report, confusion_matrix\n",
    "from sklearn.preprocessing import StandardScaler\n",
    "from sklearn.preprocessing import LabelEncoder\n",
    "from sklearn.pipeline import Pipeline\n",
    "from sklearn.ensemble import AdaBoostRegressor, GradientBoostingRegressor, RandomForestRegressor\n",
    "from catboost import CatBoostRegressor\n",
    "from xgboost import XGBRegressor\n",
    "from sklearn.metrics import mean_squared_error\n",
    "from sklearn.metrics import mean_absolute_error\n",
    "\n",
    "\n",
    "\n",
    "# Libraries for statistics and warnings management\n",
    "import statistics\n",
    "import warnings\n",
    "warnings.filterwarnings(\"ignore\")"
   ]
  },
  {
   "cell_type": "markdown",
   "id": "d943fb4d",
   "metadata": {},
   "source": [
    "## Data Ingestion"
   ]
  },
  {
   "cell_type": "code",
   "execution_count": 2,
   "id": "d4d72903",
   "metadata": {},
   "outputs": [],
   "source": [
    "from astrapy import DataAPIClient\n",
    "import pandas as pd\n",
    "\n",
    "# Initialize the client\n",
    "client = DataAPIClient(\"AstraCS:sfAYACtyAiPjGoNObLAuxRqP:88f953700b41eb41428f413b3071b6f1fefab22af5328f776b5624ec2695fd1b\")\n",
    "\n",
    "# Get the database instance\n",
    "db = client.get_database_by_api_endpoint(\"https://3d38969d-98ef-4d54-9580-769f7c5ed3dd-us-east-2.apps.astra.datastax.com\")\n",
    "\n",
    "# Access the collection (table)\n",
    "collection = db.get_collection('metrodata')  \n",
    "\n",
    "result = collection.find({})  # Empty filter retrieves all documents\n",
    "\n",
    "# Convert the result to a DataFrame\n",
    "df1 = pd.DataFrame(result)"
   ]
  },
  {
   "cell_type": "code",
   "execution_count": 3,
   "id": "77d6a8dd",
   "metadata": {},
   "outputs": [],
   "source": [
    "# Storing the Dataset Locally for Future Usage\n",
    "df1.to_csv('Metro Interstate Traffic Volume.csv', index=False)"
   ]
  },
  {
   "cell_type": "code",
   "execution_count": 2,
   "id": "968de81b",
   "metadata": {},
   "outputs": [
    {
     "data": {
      "application/javascript": [
       "\n",
       "        if (window._pyforest_update_imports_cell) { window._pyforest_update_imports_cell('import pandas as pd'); }\n",
       "    "
      ],
      "text/plain": [
       "<IPython.core.display.Javascript object>"
      ]
     },
     "metadata": {},
     "output_type": "display_data"
    }
   ],
   "source": [
    "# Loading the Locally Stored Dataset \n",
    "df = pd.read_csv('Metro Interstate Traffic Volume.csv')"
   ]
  },
  {
   "cell_type": "code",
   "execution_count": 3,
   "id": "90563fc6",
   "metadata": {},
   "outputs": [
    {
     "data": {
      "text/html": [
       "<div>\n",
       "<style scoped>\n",
       "    .dataframe tbody tr th:only-of-type {\n",
       "        vertical-align: middle;\n",
       "    }\n",
       "\n",
       "    .dataframe tbody tr th {\n",
       "        vertical-align: top;\n",
       "    }\n",
       "\n",
       "    .dataframe thead th {\n",
       "        text-align: right;\n",
       "    }\n",
       "</style>\n",
       "<table border=\"1\" class=\"dataframe\">\n",
       "  <thead>\n",
       "    <tr style=\"text-align: right;\">\n",
       "      <th></th>\n",
       "      <th>_id</th>\n",
       "      <th>holiday</th>\n",
       "      <th>temp</th>\n",
       "      <th>rain_1h</th>\n",
       "      <th>snow_1h</th>\n",
       "      <th>clouds_all</th>\n",
       "      <th>weather_main</th>\n",
       "      <th>weather_description</th>\n",
       "      <th>date_time</th>\n",
       "      <th>traffic_volume</th>\n",
       "    </tr>\n",
       "  </thead>\n",
       "  <tbody>\n",
       "    <tr>\n",
       "      <th>0</th>\n",
       "      <td>8748e5b7-5940-4e81-88e5-b759407e8142</td>\n",
       "      <td>None</td>\n",
       "      <td>258.89</td>\n",
       "      <td>0.00</td>\n",
       "      <td>0.0</td>\n",
       "      <td>75</td>\n",
       "      <td>Snow</td>\n",
       "      <td>heavy snow</td>\n",
       "      <td>2013-02-20 02:00:00</td>\n",
       "      <td>220</td>\n",
       "    </tr>\n",
       "    <tr>\n",
       "      <th>1</th>\n",
       "      <td>1da8337e-2569-4208-a833-7e256942089d</td>\n",
       "      <td>None</td>\n",
       "      <td>288.01</td>\n",
       "      <td>0.00</td>\n",
       "      <td>0.0</td>\n",
       "      <td>1</td>\n",
       "      <td>Clear</td>\n",
       "      <td>sky is clear</td>\n",
       "      <td>2018-09-09 23:00:00</td>\n",
       "      <td>996</td>\n",
       "    </tr>\n",
       "    <tr>\n",
       "      <th>2</th>\n",
       "      <td>87ae4c94-264b-4e42-ae4c-94264b9e426a</td>\n",
       "      <td>None</td>\n",
       "      <td>290.65</td>\n",
       "      <td>0.76</td>\n",
       "      <td>0.0</td>\n",
       "      <td>64</td>\n",
       "      <td>Rain</td>\n",
       "      <td>moderate rain</td>\n",
       "      <td>2013-07-31 01:00:00</td>\n",
       "      <td>402</td>\n",
       "    </tr>\n",
       "    <tr>\n",
       "      <th>3</th>\n",
       "      <td>ecce0631-32ee-4500-8e06-3132eea5008a</td>\n",
       "      <td>None</td>\n",
       "      <td>290.78</td>\n",
       "      <td>0.00</td>\n",
       "      <td>0.0</td>\n",
       "      <td>75</td>\n",
       "      <td>Clouds</td>\n",
       "      <td>broken clouds</td>\n",
       "      <td>2018-09-09 11:00:00</td>\n",
       "      <td>4273</td>\n",
       "    </tr>\n",
       "    <tr>\n",
       "      <th>4</th>\n",
       "      <td>346a7b77-6382-4830-aa7b-7763825830fd</td>\n",
       "      <td>None</td>\n",
       "      <td>299.31</td>\n",
       "      <td>0.00</td>\n",
       "      <td>0.0</td>\n",
       "      <td>1</td>\n",
       "      <td>Clear</td>\n",
       "      <td>sky is clear</td>\n",
       "      <td>2016-07-09 19:00:00</td>\n",
       "      <td>2903</td>\n",
       "    </tr>\n",
       "  </tbody>\n",
       "</table>\n",
       "</div>"
      ],
      "text/plain": [
       "                                    _id holiday    temp  rain_1h  snow_1h  \\\n",
       "0  8748e5b7-5940-4e81-88e5-b759407e8142    None  258.89     0.00      0.0   \n",
       "1  1da8337e-2569-4208-a833-7e256942089d    None  288.01     0.00      0.0   \n",
       "2  87ae4c94-264b-4e42-ae4c-94264b9e426a    None  290.65     0.76      0.0   \n",
       "3  ecce0631-32ee-4500-8e06-3132eea5008a    None  290.78     0.00      0.0   \n",
       "4  346a7b77-6382-4830-aa7b-7763825830fd    None  299.31     0.00      0.0   \n",
       "\n",
       "   clouds_all weather_main weather_description            date_time  \\\n",
       "0          75         Snow          heavy snow  2013-02-20 02:00:00   \n",
       "1           1        Clear        sky is clear  2018-09-09 23:00:00   \n",
       "2          64         Rain       moderate rain  2013-07-31 01:00:00   \n",
       "3          75       Clouds       broken clouds  2018-09-09 11:00:00   \n",
       "4           1        Clear        sky is clear  2016-07-09 19:00:00   \n",
       "\n",
       "   traffic_volume  \n",
       "0             220  \n",
       "1             996  \n",
       "2             402  \n",
       "3            4273  \n",
       "4            2903  "
      ]
     },
     "execution_count": 3,
     "metadata": {},
     "output_type": "execute_result"
    }
   ],
   "source": [
    "df.head()"
   ]
  },
  {
   "cell_type": "markdown",
   "id": "6b4552c6-0f93-480b-9ccf-c7969afe21ec",
   "metadata": {},
   "source": [
    "## EDA (Exploratory Data Analysis)"
   ]
  },
  {
   "cell_type": "code",
   "execution_count": 4,
   "id": "c9eebb67",
   "metadata": {},
   "outputs": [
    {
     "name": "stdout",
     "output_type": "stream",
     "text": [
      "\n",
      "Data size: (48204, 10)\n"
     ]
    }
   ],
   "source": [
    "# Display the dimensions of the DataFrame\n",
    "print(\"\\nData size:\",df.shape)"
   ]
  },
  {
   "cell_type": "code",
   "execution_count": 5,
   "id": "f8f0316e",
   "metadata": {},
   "outputs": [
    {
     "name": "stdout",
     "output_type": "stream",
     "text": [
      "\n",
      "Number of records: 48204\n"
     ]
    }
   ],
   "source": [
    "# Show the number of records (rows) in the DataFrame\n",
    "print(\"\\nNumber of records:\",len(df))"
   ]
  },
  {
   "cell_type": "code",
   "execution_count": 6,
   "id": "f6b77e66",
   "metadata": {},
   "outputs": [
    {
     "name": "stdout",
     "output_type": "stream",
     "text": [
      "\n",
      "Number of atrributes: 10\n"
     ]
    }
   ],
   "source": [
    "# Display the number of attributes (columns) in the DataFrame\n",
    "print(\"\\nNumber of atrributes:\",len(df.columns))"
   ]
  },
  {
   "cell_type": "code",
   "execution_count": 7,
   "id": "7a9d0f55",
   "metadata": {},
   "outputs": [
    {
     "name": "stdout",
     "output_type": "stream",
     "text": [
      "<class 'pandas.core.frame.DataFrame'>\n",
      "RangeIndex: 48204 entries, 0 to 48203\n",
      "Data columns (total 10 columns):\n",
      " #   Column               Non-Null Count  Dtype  \n",
      "---  ------               --------------  -----  \n",
      " 0   _id                  48204 non-null  object \n",
      " 1   holiday              48204 non-null  object \n",
      " 2   temp                 48204 non-null  float64\n",
      " 3   rain_1h              48204 non-null  float64\n",
      " 4   snow_1h              48204 non-null  float64\n",
      " 5   clouds_all           48204 non-null  int64  \n",
      " 6   weather_main         48204 non-null  object \n",
      " 7   weather_description  48204 non-null  object \n",
      " 8   date_time            48204 non-null  object \n",
      " 9   traffic_volume       48204 non-null  int64  \n",
      "dtypes: float64(3), int64(2), object(5)\n",
      "memory usage: 3.7+ MB\n"
     ]
    }
   ],
   "source": [
    "# Provide detailed information about the DataFrame \n",
    "df.info()"
   ]
  },
  {
   "cell_type": "code",
   "execution_count": 8,
   "id": "4c2037cc",
   "metadata": {},
   "outputs": [
    {
     "data": {
      "text/html": [
       "<div>\n",
       "<style scoped>\n",
       "    .dataframe tbody tr th:only-of-type {\n",
       "        vertical-align: middle;\n",
       "    }\n",
       "\n",
       "    .dataframe tbody tr th {\n",
       "        vertical-align: top;\n",
       "    }\n",
       "\n",
       "    .dataframe thead th {\n",
       "        text-align: right;\n",
       "    }\n",
       "</style>\n",
       "<table border=\"1\" class=\"dataframe\">\n",
       "  <thead>\n",
       "    <tr style=\"text-align: right;\">\n",
       "      <th></th>\n",
       "      <th>temp</th>\n",
       "      <th>rain_1h</th>\n",
       "      <th>snow_1h</th>\n",
       "      <th>clouds_all</th>\n",
       "      <th>traffic_volume</th>\n",
       "    </tr>\n",
       "  </thead>\n",
       "  <tbody>\n",
       "    <tr>\n",
       "      <th>count</th>\n",
       "      <td>48204.000000</td>\n",
       "      <td>48204.000000</td>\n",
       "      <td>48204.000000</td>\n",
       "      <td>48204.000000</td>\n",
       "      <td>48204.000000</td>\n",
       "    </tr>\n",
       "    <tr>\n",
       "      <th>mean</th>\n",
       "      <td>281.205870</td>\n",
       "      <td>0.334264</td>\n",
       "      <td>0.000222</td>\n",
       "      <td>49.362231</td>\n",
       "      <td>3259.818355</td>\n",
       "    </tr>\n",
       "    <tr>\n",
       "      <th>std</th>\n",
       "      <td>13.338232</td>\n",
       "      <td>44.789133</td>\n",
       "      <td>0.008168</td>\n",
       "      <td>39.015750</td>\n",
       "      <td>1986.860670</td>\n",
       "    </tr>\n",
       "    <tr>\n",
       "      <th>min</th>\n",
       "      <td>0.000000</td>\n",
       "      <td>0.000000</td>\n",
       "      <td>0.000000</td>\n",
       "      <td>0.000000</td>\n",
       "      <td>0.000000</td>\n",
       "    </tr>\n",
       "    <tr>\n",
       "      <th>25%</th>\n",
       "      <td>272.160000</td>\n",
       "      <td>0.000000</td>\n",
       "      <td>0.000000</td>\n",
       "      <td>1.000000</td>\n",
       "      <td>1193.000000</td>\n",
       "    </tr>\n",
       "    <tr>\n",
       "      <th>50%</th>\n",
       "      <td>282.450000</td>\n",
       "      <td>0.000000</td>\n",
       "      <td>0.000000</td>\n",
       "      <td>64.000000</td>\n",
       "      <td>3380.000000</td>\n",
       "    </tr>\n",
       "    <tr>\n",
       "      <th>75%</th>\n",
       "      <td>291.806000</td>\n",
       "      <td>0.000000</td>\n",
       "      <td>0.000000</td>\n",
       "      <td>90.000000</td>\n",
       "      <td>4933.000000</td>\n",
       "    </tr>\n",
       "    <tr>\n",
       "      <th>max</th>\n",
       "      <td>310.070000</td>\n",
       "      <td>9831.300000</td>\n",
       "      <td>0.510000</td>\n",
       "      <td>100.000000</td>\n",
       "      <td>7280.000000</td>\n",
       "    </tr>\n",
       "  </tbody>\n",
       "</table>\n",
       "</div>"
      ],
      "text/plain": [
       "               temp       rain_1h       snow_1h    clouds_all  traffic_volume\n",
       "count  48204.000000  48204.000000  48204.000000  48204.000000    48204.000000\n",
       "mean     281.205870      0.334264      0.000222     49.362231     3259.818355\n",
       "std       13.338232     44.789133      0.008168     39.015750     1986.860670\n",
       "min        0.000000      0.000000      0.000000      0.000000        0.000000\n",
       "25%      272.160000      0.000000      0.000000      1.000000     1193.000000\n",
       "50%      282.450000      0.000000      0.000000     64.000000     3380.000000\n",
       "75%      291.806000      0.000000      0.000000     90.000000     4933.000000\n",
       "max      310.070000   9831.300000      0.510000    100.000000     7280.000000"
      ]
     },
     "execution_count": 8,
     "metadata": {},
     "output_type": "execute_result"
    }
   ],
   "source": [
    "# Generate summary statistics of the DataFrame's numerical columns\n",
    "df.describe()"
   ]
  },
  {
   "cell_type": "markdown",
   "id": "0f61fab9",
   "metadata": {},
   "source": [
    "### Check Missing Values"
   ]
  },
  {
   "cell_type": "code",
   "execution_count": 9,
   "id": "801cbe1c-a8a6-4adb-aa77-b94446924b27",
   "metadata": {},
   "outputs": [
    {
     "data": {
      "application/javascript": [
       "\n",
       "        if (window._pyforest_update_imports_cell) { window._pyforest_update_imports_cell('import pandas as pd'); }\n",
       "    "
      ],
      "text/plain": [
       "<IPython.core.display.Javascript object>"
      ]
     },
     "metadata": {},
     "output_type": "display_data"
    },
    {
     "data": {
      "text/html": [
       "<div>\n",
       "<style scoped>\n",
       "    .dataframe tbody tr th:only-of-type {\n",
       "        vertical-align: middle;\n",
       "    }\n",
       "\n",
       "    .dataframe tbody tr th {\n",
       "        vertical-align: top;\n",
       "    }\n",
       "\n",
       "    .dataframe thead th {\n",
       "        text-align: right;\n",
       "    }\n",
       "</style>\n",
       "<table border=\"1\" class=\"dataframe\">\n",
       "  <thead>\n",
       "    <tr style=\"text-align: right;\">\n",
       "      <th></th>\n",
       "      <th>Null Values</th>\n",
       "      <th>Percentage Null Values</th>\n",
       "    </tr>\n",
       "  </thead>\n",
       "  <tbody>\n",
       "    <tr>\n",
       "      <th>_id</th>\n",
       "      <td>0</td>\n",
       "      <td>0.0</td>\n",
       "    </tr>\n",
       "    <tr>\n",
       "      <th>holiday</th>\n",
       "      <td>0</td>\n",
       "      <td>0.0</td>\n",
       "    </tr>\n",
       "    <tr>\n",
       "      <th>temp</th>\n",
       "      <td>0</td>\n",
       "      <td>0.0</td>\n",
       "    </tr>\n",
       "    <tr>\n",
       "      <th>rain_1h</th>\n",
       "      <td>0</td>\n",
       "      <td>0.0</td>\n",
       "    </tr>\n",
       "    <tr>\n",
       "      <th>snow_1h</th>\n",
       "      <td>0</td>\n",
       "      <td>0.0</td>\n",
       "    </tr>\n",
       "    <tr>\n",
       "      <th>clouds_all</th>\n",
       "      <td>0</td>\n",
       "      <td>0.0</td>\n",
       "    </tr>\n",
       "    <tr>\n",
       "      <th>weather_main</th>\n",
       "      <td>0</td>\n",
       "      <td>0.0</td>\n",
       "    </tr>\n",
       "    <tr>\n",
       "      <th>weather_description</th>\n",
       "      <td>0</td>\n",
       "      <td>0.0</td>\n",
       "    </tr>\n",
       "    <tr>\n",
       "      <th>date_time</th>\n",
       "      <td>0</td>\n",
       "      <td>0.0</td>\n",
       "    </tr>\n",
       "    <tr>\n",
       "      <th>traffic_volume</th>\n",
       "      <td>0</td>\n",
       "      <td>0.0</td>\n",
       "    </tr>\n",
       "  </tbody>\n",
       "</table>\n",
       "</div>"
      ],
      "text/plain": [
       "                     Null Values  Percentage Null Values\n",
       "_id                            0                     0.0\n",
       "holiday                        0                     0.0\n",
       "temp                           0                     0.0\n",
       "rain_1h                        0                     0.0\n",
       "snow_1h                        0                     0.0\n",
       "clouds_all                     0                     0.0\n",
       "weather_main                   0                     0.0\n",
       "weather_description            0                     0.0\n",
       "date_time                      0                     0.0\n",
       "traffic_volume                 0                     0.0"
      ]
     },
     "execution_count": 9,
     "metadata": {},
     "output_type": "execute_result"
    }
   ],
   "source": [
    "# Display the count and percentage of null values for each column\n",
    "null_val = pd.DataFrame({\n",
    "    'Null Values': df.isna().sum(),  \n",
    "    'Percentage Null Values': (df.isna().sum() / len(df)) * 100 \n",
    "})\n",
    "\n",
    "null_val"
   ]
  },
  {
   "cell_type": "markdown",
   "id": "f69eb9fe",
   "metadata": {},
   "source": [
    "### Check for Duplicate Values"
   ]
  },
  {
   "cell_type": "code",
   "execution_count": 10,
   "id": "0f48f0e1",
   "metadata": {},
   "outputs": [
    {
     "name": "stdout",
     "output_type": "stream",
     "text": [
      "Number of Duplicate Rows: 0\n"
     ]
    }
   ],
   "source": [
    "print('Number of Duplicate Rows:' , df.duplicated().sum())"
   ]
  },
  {
   "cell_type": "markdown",
   "id": "5aaa8de6",
   "metadata": {},
   "source": [
    "### Identify continuous and categorical columns in the DataFrame"
   ]
  },
  {
   "cell_type": "code",
   "execution_count": 11,
   "id": "24fe7019",
   "metadata": {},
   "outputs": [
    {
     "name": "stdout",
     "output_type": "stream",
     "text": [
      "Continuous Variables\n",
      "---------------------\n",
      "- temp\n",
      "- rain_1h\n",
      "- snow_1h\n",
      "- clouds_all\n",
      "- traffic_volume\n",
      "\n",
      "Categorical Variables\n",
      "----------------------\n",
      "- holiday\n",
      "- date_time\n",
      "- weather_description\n",
      "- _id\n",
      "- weather_main\n"
     ]
    }
   ],
   "source": [
    "numcol_data = list(df._get_numeric_data().columns)\n",
    "\n",
    "catcol_data = list(set(df.columns) - set(numcol_data))\n",
    "\n",
    "print(\"Continuous Variables\")\n",
    "print(\"---------------------\")\n",
    "for col in numcol_data:\n",
    "    print(f\"- {col}\")\n",
    "\n",
    "print(\"\\nCategorical Variables\")\n",
    "print(\"----------------------\")\n",
    "for col in catcol_data:\n",
    "    print(f\"- {col}\")"
   ]
  },
  {
   "cell_type": "markdown",
   "id": "10758c75",
   "metadata": {},
   "source": [
    "### Display the count of each unique value for all columns in the DataFrame"
   ]
  },
  {
   "cell_type": "code",
   "execution_count": 12,
   "id": "9a8cafa2-d7e2-4cbd-844c-00c8df98a95e",
   "metadata": {},
   "outputs": [
    {
     "data": {
      "text/plain": [
       "sky is clear                           11665\n",
       "mist                                    5950\n",
       "overcast clouds                         5081\n",
       "broken clouds                           4666\n",
       "scattered clouds                        3461\n",
       "light rain                              3372\n",
       "few clouds                              1956\n",
       "light snow                              1946\n",
       "Sky is Clear                            1726\n",
       "moderate rain                           1664\n",
       "haze                                    1360\n",
       "light intensity drizzle                 1100\n",
       "fog                                      912\n",
       "proximity thunderstorm                   673\n",
       "drizzle                                  651\n",
       "heavy snow                               616\n",
       "heavy intensity rain                     467\n",
       "snow                                     293\n",
       "proximity shower rain                    136\n",
       "thunderstorm                             125\n",
       "heavy intensity drizzle                   64\n",
       "thunderstorm with heavy rain              63\n",
       "thunderstorm with light rain              54\n",
       "proximity thunderstorm with rain          52\n",
       "thunderstorm with rain                    37\n",
       "smoke                                     20\n",
       "very heavy rain                           18\n",
       "thunderstorm with light drizzle           15\n",
       "light intensity shower rain               13\n",
       "proximity thunderstorm with drizzle       13\n",
       "light shower snow                         11\n",
       "shower drizzle                             6\n",
       "light rain and snow                        6\n",
       "SQUALLS                                    4\n",
       "sleet                                      3\n",
       "thunderstorm with drizzle                  2\n",
       "freezing rain                              2\n",
       "shower snow                                1\n",
       "Name: weather_description, dtype: int64"
      ]
     },
     "execution_count": 12,
     "metadata": {},
     "output_type": "execute_result"
    }
   ],
   "source": [
    "df['weather_description'].value_counts()"
   ]
  },
  {
   "cell_type": "code",
   "execution_count": 13,
   "id": "e29d9d72-64c8-4285-b856-bc7fcfe6ec83",
   "metadata": {},
   "outputs": [
    {
     "data": {
      "text/plain": [
       "Clouds          15164\n",
       "Clear           13391\n",
       "Mist             5950\n",
       "Rain             5672\n",
       "Snow             2876\n",
       "Drizzle          1821\n",
       "Haze             1360\n",
       "Thunderstorm     1034\n",
       "Fog               912\n",
       "Smoke              20\n",
       "Squall              4\n",
       "Name: weather_main, dtype: int64"
      ]
     },
     "execution_count": 13,
     "metadata": {},
     "output_type": "execute_result"
    }
   ],
   "source": [
    "df['weather_main'].value_counts()"
   ]
  },
  {
   "cell_type": "code",
   "execution_count": 14,
   "id": "8c51118e-5368-4c7b-bf3a-2544488a35ad",
   "metadata": {},
   "outputs": [
    {
     "data": {
      "text/plain": [
       "None                         48143\n",
       "Labor Day                        7\n",
       "Christmas Day                    6\n",
       "Thanksgiving Day                 6\n",
       "New Years Day                    6\n",
       "Martin Luther King Jr Day        6\n",
       "Columbus Day                     5\n",
       "Veterans Day                     5\n",
       "Independence Day                 5\n",
       "Memorial Day                     5\n",
       "State Fair                       5\n",
       "Washingtons Birthday             5\n",
       "Name: holiday, dtype: int64"
      ]
     },
     "execution_count": 14,
     "metadata": {},
     "output_type": "execute_result"
    }
   ],
   "source": [
    "df['holiday'].value_counts()"
   ]
  },
  {
   "cell_type": "code",
   "execution_count": 15,
   "id": "9187af38",
   "metadata": {},
   "outputs": [
    {
     "data": {
      "text/plain": [
       "('2012-10-02 09:00:00', '2018-09-30 23:00:00')"
      ]
     },
     "execution_count": 15,
     "metadata": {},
     "output_type": "execute_result"
    }
   ],
   "source": [
    "df['date_time'].min(),df['date_time'].max()"
   ]
  },
  {
   "cell_type": "code",
   "execution_count": 16,
   "id": "87afff0c",
   "metadata": {},
   "outputs": [
    {
     "name": "stdout",
     "output_type": "stream",
     "text": [
      "Percentage of zero values in 'rain_1h': 92.81%\n",
      "Percentage of zero values in 'snow_1h': 99.87%\n"
     ]
    }
   ],
   "source": [
    "# Calculate the percentage of zero values in 'rain_1h' and 'snow_1h'\n",
    "rain_zero_percentage = (df['rain_1h'] == 0).sum() / len(df) * 100\n",
    "snow_zero_percentage = (df['snow_1h'] == 0).sum() / len(df) * 100\n",
    "\n",
    "print(f\"Percentage of zero values in 'rain_1h': {rain_zero_percentage:.2f}%\")\n",
    "print(f\"Percentage of zero values in 'snow_1h': {snow_zero_percentage:.2f}%\")"
   ]
  },
  {
   "cell_type": "markdown",
   "id": "c12d9496",
   "metadata": {},
   "source": [
    "**A significant portion of rain_1h and snow_1h values are zeros > 90% , hence we will drop them in future steps**"
   ]
  },
  {
   "cell_type": "markdown",
   "id": "ad41f1af",
   "metadata": {},
   "source": [
    "**The timeframe of the dataset is from October 2, 2012, 09:00 AM to September 30, 2018, 11:00 PM**"
   ]
  },
  {
   "cell_type": "code",
   "execution_count": 17,
   "id": "c98cc318",
   "metadata": {},
   "outputs": [
    {
     "data": {
      "text/html": [
       "<div>\n",
       "<style scoped>\n",
       "    .dataframe tbody tr th:only-of-type {\n",
       "        vertical-align: middle;\n",
       "    }\n",
       "\n",
       "    .dataframe tbody tr th {\n",
       "        vertical-align: top;\n",
       "    }\n",
       "\n",
       "    .dataframe thead th {\n",
       "        text-align: right;\n",
       "    }\n",
       "</style>\n",
       "<table border=\"1\" class=\"dataframe\">\n",
       "  <thead>\n",
       "    <tr style=\"text-align: right;\">\n",
       "      <th></th>\n",
       "      <th>_id</th>\n",
       "      <th>holiday</th>\n",
       "      <th>rain_1h</th>\n",
       "      <th>snow_1h</th>\n",
       "      <th>clouds_all</th>\n",
       "      <th>weather_main</th>\n",
       "      <th>weather_description</th>\n",
       "      <th>date_time</th>\n",
       "      <th>traffic_volume</th>\n",
       "      <th>temp_celsius</th>\n",
       "    </tr>\n",
       "  </thead>\n",
       "  <tbody>\n",
       "    <tr>\n",
       "      <th>0</th>\n",
       "      <td>8748e5b7-5940-4e81-88e5-b759407e8142</td>\n",
       "      <td>None</td>\n",
       "      <td>0.00</td>\n",
       "      <td>0.0</td>\n",
       "      <td>75</td>\n",
       "      <td>Snow</td>\n",
       "      <td>heavy snow</td>\n",
       "      <td>2013-02-20 02:00:00</td>\n",
       "      <td>220</td>\n",
       "      <td>-14.26</td>\n",
       "    </tr>\n",
       "    <tr>\n",
       "      <th>1</th>\n",
       "      <td>1da8337e-2569-4208-a833-7e256942089d</td>\n",
       "      <td>None</td>\n",
       "      <td>0.00</td>\n",
       "      <td>0.0</td>\n",
       "      <td>1</td>\n",
       "      <td>Clear</td>\n",
       "      <td>sky is clear</td>\n",
       "      <td>2018-09-09 23:00:00</td>\n",
       "      <td>996</td>\n",
       "      <td>14.86</td>\n",
       "    </tr>\n",
       "    <tr>\n",
       "      <th>2</th>\n",
       "      <td>87ae4c94-264b-4e42-ae4c-94264b9e426a</td>\n",
       "      <td>None</td>\n",
       "      <td>0.76</td>\n",
       "      <td>0.0</td>\n",
       "      <td>64</td>\n",
       "      <td>Rain</td>\n",
       "      <td>moderate rain</td>\n",
       "      <td>2013-07-31 01:00:00</td>\n",
       "      <td>402</td>\n",
       "      <td>17.50</td>\n",
       "    </tr>\n",
       "    <tr>\n",
       "      <th>3</th>\n",
       "      <td>ecce0631-32ee-4500-8e06-3132eea5008a</td>\n",
       "      <td>None</td>\n",
       "      <td>0.00</td>\n",
       "      <td>0.0</td>\n",
       "      <td>75</td>\n",
       "      <td>Clouds</td>\n",
       "      <td>broken clouds</td>\n",
       "      <td>2018-09-09 11:00:00</td>\n",
       "      <td>4273</td>\n",
       "      <td>17.63</td>\n",
       "    </tr>\n",
       "    <tr>\n",
       "      <th>4</th>\n",
       "      <td>346a7b77-6382-4830-aa7b-7763825830fd</td>\n",
       "      <td>None</td>\n",
       "      <td>0.00</td>\n",
       "      <td>0.0</td>\n",
       "      <td>1</td>\n",
       "      <td>Clear</td>\n",
       "      <td>sky is clear</td>\n",
       "      <td>2016-07-09 19:00:00</td>\n",
       "      <td>2903</td>\n",
       "      <td>26.16</td>\n",
       "    </tr>\n",
       "    <tr>\n",
       "      <th>...</th>\n",
       "      <td>...</td>\n",
       "      <td>...</td>\n",
       "      <td>...</td>\n",
       "      <td>...</td>\n",
       "      <td>...</td>\n",
       "      <td>...</td>\n",
       "      <td>...</td>\n",
       "      <td>...</td>\n",
       "      <td>...</td>\n",
       "      <td>...</td>\n",
       "    </tr>\n",
       "    <tr>\n",
       "      <th>48199</th>\n",
       "      <td>84fccf31-93d5-4d09-bccf-3193d59d0966</td>\n",
       "      <td>None</td>\n",
       "      <td>0.00</td>\n",
       "      <td>0.0</td>\n",
       "      <td>1</td>\n",
       "      <td>Mist</td>\n",
       "      <td>mist</td>\n",
       "      <td>2017-05-25 07:00:00</td>\n",
       "      <td>6500</td>\n",
       "      <td>8.86</td>\n",
       "    </tr>\n",
       "    <tr>\n",
       "      <th>48200</th>\n",
       "      <td>f457b251-f25c-446d-97b2-51f25cc46d35</td>\n",
       "      <td>None</td>\n",
       "      <td>0.00</td>\n",
       "      <td>0.0</td>\n",
       "      <td>64</td>\n",
       "      <td>Clouds</td>\n",
       "      <td>broken clouds</td>\n",
       "      <td>2013-11-18 08:00:00</td>\n",
       "      <td>6092</td>\n",
       "      <td>-2.56</td>\n",
       "    </tr>\n",
       "    <tr>\n",
       "      <th>48201</th>\n",
       "      <td>41cff8ca-3ca3-4d7f-8ff8-ca3ca30d7fa5</td>\n",
       "      <td>None</td>\n",
       "      <td>0.40</td>\n",
       "      <td>0.0</td>\n",
       "      <td>90</td>\n",
       "      <td>Drizzle</td>\n",
       "      <td>light intensity drizzle</td>\n",
       "      <td>2015-09-10 06:00:00</td>\n",
       "      <td>5481</td>\n",
       "      <td>15.35</td>\n",
       "    </tr>\n",
       "    <tr>\n",
       "      <th>48202</th>\n",
       "      <td>cc1079b5-57b4-42b3-9079-b557b4d2b369</td>\n",
       "      <td>None</td>\n",
       "      <td>0.00</td>\n",
       "      <td>0.0</td>\n",
       "      <td>75</td>\n",
       "      <td>Clouds</td>\n",
       "      <td>broken clouds</td>\n",
       "      <td>2014-07-30 13:00:00</td>\n",
       "      <td>5543</td>\n",
       "      <td>25.49</td>\n",
       "    </tr>\n",
       "    <tr>\n",
       "      <th>48203</th>\n",
       "      <td>a8e852fb-6c71-40cd-a852-fb6c7160cda9</td>\n",
       "      <td>None</td>\n",
       "      <td>0.00</td>\n",
       "      <td>0.0</td>\n",
       "      <td>20</td>\n",
       "      <td>Clouds</td>\n",
       "      <td>few clouds</td>\n",
       "      <td>2014-04-23 00:00:00</td>\n",
       "      <td>555</td>\n",
       "      <td>6.55</td>\n",
       "    </tr>\n",
       "  </tbody>\n",
       "</table>\n",
       "<p>48204 rows × 10 columns</p>\n",
       "</div>"
      ],
      "text/plain": [
       "                                        _id holiday  rain_1h  snow_1h  \\\n",
       "0      8748e5b7-5940-4e81-88e5-b759407e8142    None     0.00      0.0   \n",
       "1      1da8337e-2569-4208-a833-7e256942089d    None     0.00      0.0   \n",
       "2      87ae4c94-264b-4e42-ae4c-94264b9e426a    None     0.76      0.0   \n",
       "3      ecce0631-32ee-4500-8e06-3132eea5008a    None     0.00      0.0   \n",
       "4      346a7b77-6382-4830-aa7b-7763825830fd    None     0.00      0.0   \n",
       "...                                     ...     ...      ...      ...   \n",
       "48199  84fccf31-93d5-4d09-bccf-3193d59d0966    None     0.00      0.0   \n",
       "48200  f457b251-f25c-446d-97b2-51f25cc46d35    None     0.00      0.0   \n",
       "48201  41cff8ca-3ca3-4d7f-8ff8-ca3ca30d7fa5    None     0.40      0.0   \n",
       "48202  cc1079b5-57b4-42b3-9079-b557b4d2b369    None     0.00      0.0   \n",
       "48203  a8e852fb-6c71-40cd-a852-fb6c7160cda9    None     0.00      0.0   \n",
       "\n",
       "       clouds_all weather_main      weather_description            date_time  \\\n",
       "0              75         Snow               heavy snow  2013-02-20 02:00:00   \n",
       "1               1        Clear             sky is clear  2018-09-09 23:00:00   \n",
       "2              64         Rain            moderate rain  2013-07-31 01:00:00   \n",
       "3              75       Clouds            broken clouds  2018-09-09 11:00:00   \n",
       "4               1        Clear             sky is clear  2016-07-09 19:00:00   \n",
       "...           ...          ...                      ...                  ...   \n",
       "48199           1         Mist                     mist  2017-05-25 07:00:00   \n",
       "48200          64       Clouds            broken clouds  2013-11-18 08:00:00   \n",
       "48201          90      Drizzle  light intensity drizzle  2015-09-10 06:00:00   \n",
       "48202          75       Clouds            broken clouds  2014-07-30 13:00:00   \n",
       "48203          20       Clouds               few clouds  2014-04-23 00:00:00   \n",
       "\n",
       "       traffic_volume  temp_celsius  \n",
       "0                 220        -14.26  \n",
       "1                 996         14.86  \n",
       "2                 402         17.50  \n",
       "3                4273         17.63  \n",
       "4                2903         26.16  \n",
       "...               ...           ...  \n",
       "48199            6500          8.86  \n",
       "48200            6092         -2.56  \n",
       "48201            5481         15.35  \n",
       "48202            5543         25.49  \n",
       "48203             555          6.55  \n",
       "\n",
       "[48204 rows x 10 columns]"
      ]
     },
     "execution_count": 17,
     "metadata": {},
     "output_type": "execute_result"
    }
   ],
   "source": [
    "# Convert temperature from Kelvin to Celsius\n",
    "df['temp_celsius'] = df['temp'] - 273.15\n",
    "\n",
    "# Drop the original 'temp' column\n",
    "df = df.drop('temp', axis=1)\n",
    "\n",
    "df"
   ]
  },
  {
   "cell_type": "markdown",
   "id": "a417cb16",
   "metadata": {},
   "source": [
    "### Visualization to see data trends"
   ]
  },
  {
   "cell_type": "markdown",
   "id": "a5c7db2e",
   "metadata": {},
   "source": [
    "**1. Count occurrences of each holiday**"
   ]
  },
  {
   "cell_type": "code",
   "execution_count": 18,
   "id": "6a6ae563",
   "metadata": {},
   "outputs": [
    {
     "data": {
      "image/png": "[encoded data removed]",
      "text/plain": [
       "<Figure size 1000x600 with 1 Axes>"
      ]
     },
     "metadata": {},
     "output_type": "display_data"
    }
   ],
   "source": [
    "holidays_df = df[df['holiday'] != 'None']\n",
    "\n",
    "# Count occurrences of each holiday\n",
    "holiday_counts = holidays_df['holiday'].value_counts()\n",
    "\n",
    "# Create a bar plot for holidays\n",
    "plt.figure(figsize=(10, 6))\n",
    "sns.barplot(x=holiday_counts.index, y=holiday_counts.values, palette='viridis')\n",
    "plt.xlabel('Holiday')\n",
    "plt.ylabel('Count')\n",
    "plt.title('Frequency of Different Holidays')\n",
    "plt.xticks(rotation=90)\n",
    "plt.tight_layout()\n",
    "\n",
    "# Show the plot\n",
    "plt.show()"
   ]
  },
  {
   "cell_type": "markdown",
   "id": "9f489230",
   "metadata": {},
   "source": [
    "**2. Histogram of Temperature Distribution**"
   ]
  },
  {
   "cell_type": "code",
   "execution_count": 19,
   "id": "89c47c56",
   "metadata": {},
   "outputs": [
    {
     "data": {
      "image/png": "[encoded data removed]",
      "text/plain": [
       "<Figure size 1000x600 with 1 Axes>"
      ]
     },
     "metadata": {},
     "output_type": "display_data"
    }
   ],
   "source": [
    "plt.figure(figsize=(10, 6))\n",
    "\n",
    "sns.histplot(df['temp_celsius'], bins=30, color='skyblue', edgecolor='black',kde = 'True')\n",
    "\n",
    "plt.xlabel('Temperature')\n",
    "plt.ylabel('Frequency')\n",
    "plt.title('Histogram of Temperature Distribution')\n",
    "\n",
    "plt.tight_layout()\n",
    "plt.show()"
   ]
  },
  {
   "cell_type": "markdown",
   "id": "265f70f5",
   "metadata": {},
   "source": [
    "**3. Bar Plot of Average Traffic Volume by Weather Description**"
   ]
  },
  {
   "cell_type": "code",
   "execution_count": 20,
   "id": "8f95e05a",
   "metadata": {},
   "outputs": [
    {
     "data": {
      "image/png": "[encoded data removed]",
      "text/plain": [
       "<Figure size 1200x800 with 1 Axes>"
      ]
     },
     "metadata": {},
     "output_type": "display_data"
    }
   ],
   "source": [
    "# Create a pivot table for average traffic volume\n",
    "pivot_table = df.pivot_table(values='traffic_volume', index='weather_description', aggfunc='mean')\n",
    "\n",
    "# Reset index to use for plotting\n",
    "pivot_table = pivot_table.reset_index()\n",
    "\n",
    "# Sort the pivot table by 'traffic_volume' in descending order\n",
    "pivot_table_sorted = pivot_table.sort_values(by='traffic_volume', ascending=False)\n",
    "\n",
    "plt.figure(figsize=(12, 8))\n",
    "\n",
    "# Create a bar plot with sorted data\n",
    "sns.barplot(x='weather_description', y='traffic_volume', data=pivot_table_sorted, palette='viridis')\n",
    "\n",
    "plt.xticks(rotation=90)\n",
    "plt.xlabel('Weather Description')\n",
    "plt.ylabel('Average Traffic Volume')\n",
    "plt.title('Average Traffic Volume by Weather Description')\n",
    "\n",
    "plt.tight_layout()\n",
    "plt.show()"
   ]
  },
  {
   "cell_type": "markdown",
   "id": "2bfa1e31",
   "metadata": {},
   "source": [
    "**4. Boxplot of Temperature by Weather Main**"
   ]
  },
  {
   "cell_type": "code",
   "execution_count": 21,
   "id": "8c255394",
   "metadata": {},
   "outputs": [
    {
     "data": {
      "image/png": "[encoded data removed]",
      "text/plain": [
       "<Figure size 1200x600 with 1 Axes>"
      ]
     },
     "metadata": {},
     "output_type": "display_data"
    }
   ],
   "source": [
    "import matplotlib.pyplot as plt\n",
    "import seaborn as sns\n",
    "\n",
    "plt.figure(figsize=(12, 6))\n",
    "\n",
    "# Create a horizontal boxplot\n",
    "sns.boxplot(x='temp_celsius', y='weather_main', data=df, palette='Set2')\n",
    "\n",
    "plt.xlabel('Temperature')\n",
    "plt.ylabel('Weather Main')\n",
    "plt.title('Boxplot of Temperature by Weather Main')\n",
    "\n",
    "plt.tight_layout()\n",
    "plt.show()\n"
   ]
  },
  {
   "cell_type": "markdown",
   "id": "8283e11f",
   "metadata": {},
   "source": [
    "**5. Average Traffic Volume by Holiday**"
   ]
  },
  {
   "cell_type": "code",
   "execution_count": 22,
   "id": "15baa06c",
   "metadata": {},
   "outputs": [
    {
     "data": {
      "image/png": "[encoded data removed]",
      "text/plain": [
       "<Figure size 1000x800 with 1 Axes>"
      ]
     },
     "metadata": {},
     "output_type": "display_data"
    }
   ],
   "source": [
    "plt.figure(figsize=(10, 8))\n",
    "\n",
    "sns.barplot(x='holiday', y='traffic_volume', data=holidays_df, palette='viridis')\n",
    "\n",
    "plt.xticks(rotation=90)\n",
    "\n",
    "plt.title('Average Traffic Volume by Holiday')\n",
    "plt.xlabel('Holiday')\n",
    "plt.ylabel('Average Traffic Volume')\n",
    "\n",
    "plt.tight_layout()\n",
    "\n",
    "plt.show()"
   ]
  },
  {
   "cell_type": "markdown",
   "id": "b657e9cc-ca97-49cb-aed9-a567138e2db4",
   "metadata": {},
   "source": [
    "## Data Preprocessing"
   ]
  },
  {
   "cell_type": "code",
   "execution_count": 23,
   "id": "7b1b2cfe-faed-4356-9373-972cc2bc1ddf",
   "metadata": {},
   "outputs": [
    {
     "data": {
      "text/html": [
       "<div>\n",
       "<style scoped>\n",
       "    .dataframe tbody tr th:only-of-type {\n",
       "        vertical-align: middle;\n",
       "    }\n",
       "\n",
       "    .dataframe tbody tr th {\n",
       "        vertical-align: top;\n",
       "    }\n",
       "\n",
       "    .dataframe thead th {\n",
       "        text-align: right;\n",
       "    }\n",
       "</style>\n",
       "<table border=\"1\" class=\"dataframe\">\n",
       "  <thead>\n",
       "    <tr style=\"text-align: right;\">\n",
       "      <th></th>\n",
       "      <th>_id</th>\n",
       "      <th>holiday</th>\n",
       "      <th>rain_1h</th>\n",
       "      <th>snow_1h</th>\n",
       "      <th>clouds_all</th>\n",
       "      <th>weather_main</th>\n",
       "      <th>weather_description</th>\n",
       "      <th>date_time</th>\n",
       "      <th>traffic_volume</th>\n",
       "      <th>temp_celsius</th>\n",
       "    </tr>\n",
       "  </thead>\n",
       "  <tbody>\n",
       "    <tr>\n",
       "      <th>0</th>\n",
       "      <td>8748e5b7-5940-4e81-88e5-b759407e8142</td>\n",
       "      <td>None</td>\n",
       "      <td>0.00</td>\n",
       "      <td>0.0</td>\n",
       "      <td>75</td>\n",
       "      <td>Snow</td>\n",
       "      <td>heavy snow</td>\n",
       "      <td>2013-02-20 02:00:00</td>\n",
       "      <td>220</td>\n",
       "      <td>-14.26</td>\n",
       "    </tr>\n",
       "    <tr>\n",
       "      <th>1</th>\n",
       "      <td>1da8337e-2569-4208-a833-7e256942089d</td>\n",
       "      <td>None</td>\n",
       "      <td>0.00</td>\n",
       "      <td>0.0</td>\n",
       "      <td>1</td>\n",
       "      <td>Clear</td>\n",
       "      <td>sky is clear</td>\n",
       "      <td>2018-09-09 23:00:00</td>\n",
       "      <td>996</td>\n",
       "      <td>14.86</td>\n",
       "    </tr>\n",
       "    <tr>\n",
       "      <th>2</th>\n",
       "      <td>87ae4c94-264b-4e42-ae4c-94264b9e426a</td>\n",
       "      <td>None</td>\n",
       "      <td>0.76</td>\n",
       "      <td>0.0</td>\n",
       "      <td>64</td>\n",
       "      <td>Rain</td>\n",
       "      <td>moderate rain</td>\n",
       "      <td>2013-07-31 01:00:00</td>\n",
       "      <td>402</td>\n",
       "      <td>17.50</td>\n",
       "    </tr>\n",
       "    <tr>\n",
       "      <th>3</th>\n",
       "      <td>ecce0631-32ee-4500-8e06-3132eea5008a</td>\n",
       "      <td>None</td>\n",
       "      <td>0.00</td>\n",
       "      <td>0.0</td>\n",
       "      <td>75</td>\n",
       "      <td>Clouds</td>\n",
       "      <td>broken clouds</td>\n",
       "      <td>2018-09-09 11:00:00</td>\n",
       "      <td>4273</td>\n",
       "      <td>17.63</td>\n",
       "    </tr>\n",
       "    <tr>\n",
       "      <th>4</th>\n",
       "      <td>346a7b77-6382-4830-aa7b-7763825830fd</td>\n",
       "      <td>None</td>\n",
       "      <td>0.00</td>\n",
       "      <td>0.0</td>\n",
       "      <td>1</td>\n",
       "      <td>Clear</td>\n",
       "      <td>sky is clear</td>\n",
       "      <td>2016-07-09 19:00:00</td>\n",
       "      <td>2903</td>\n",
       "      <td>26.16</td>\n",
       "    </tr>\n",
       "  </tbody>\n",
       "</table>\n",
       "</div>"
      ],
      "text/plain": [
       "                                    _id holiday  rain_1h  snow_1h  clouds_all  \\\n",
       "0  8748e5b7-5940-4e81-88e5-b759407e8142    None     0.00      0.0          75   \n",
       "1  1da8337e-2569-4208-a833-7e256942089d    None     0.00      0.0           1   \n",
       "2  87ae4c94-264b-4e42-ae4c-94264b9e426a    None     0.76      0.0          64   \n",
       "3  ecce0631-32ee-4500-8e06-3132eea5008a    None     0.00      0.0          75   \n",
       "4  346a7b77-6382-4830-aa7b-7763825830fd    None     0.00      0.0           1   \n",
       "\n",
       "  weather_main weather_description            date_time  traffic_volume  \\\n",
       "0         Snow          heavy snow  2013-02-20 02:00:00             220   \n",
       "1        Clear        sky is clear  2018-09-09 23:00:00             996   \n",
       "2         Rain       moderate rain  2013-07-31 01:00:00             402   \n",
       "3       Clouds       broken clouds  2018-09-09 11:00:00            4273   \n",
       "4        Clear        sky is clear  2016-07-09 19:00:00            2903   \n",
       "\n",
       "   temp_celsius  \n",
       "0        -14.26  \n",
       "1         14.86  \n",
       "2         17.50  \n",
       "3         17.63  \n",
       "4         26.16  "
      ]
     },
     "execution_count": 23,
     "metadata": {},
     "output_type": "execute_result"
    }
   ],
   "source": [
    "traffic_data = df.copy()\n",
    "\n",
    "traffic_data.head()"
   ]
  },
  {
   "cell_type": "markdown",
   "id": "4613152a",
   "metadata": {},
   "source": [
    "### Encoding for Categorical Variables"
   ]
  },
  {
   "cell_type": "code",
   "execution_count": 24,
   "id": "bada2b2e",
   "metadata": {},
   "outputs": [],
   "source": [
    "label_encoder_main = LabelEncoder()\n",
    "label_encoder_desc = LabelEncoder()\n",
    "\n",
    "# Fit and transform 'weather_main'\n",
    "traffic_data['weather_main'] = label_encoder_main.fit_transform(traffic_data['weather_main'])\n",
    "\n",
    "# Fit and transform 'weather_description'\n",
    "traffic_data['weather_description'] = label_encoder_desc.fit_transform(traffic_data['weather_description'])"
   ]
  },
  {
   "cell_type": "code",
   "execution_count": 25,
   "id": "13067f18",
   "metadata": {},
   "outputs": [
    {
     "data": {
      "text/html": [
       "<div>\n",
       "<style scoped>\n",
       "    .dataframe tbody tr th:only-of-type {\n",
       "        vertical-align: middle;\n",
       "    }\n",
       "\n",
       "    .dataframe tbody tr th {\n",
       "        vertical-align: top;\n",
       "    }\n",
       "\n",
       "    .dataframe thead th {\n",
       "        text-align: right;\n",
       "    }\n",
       "</style>\n",
       "<table border=\"1\" class=\"dataframe\">\n",
       "  <thead>\n",
       "    <tr style=\"text-align: right;\">\n",
       "      <th></th>\n",
       "      <th>_id</th>\n",
       "      <th>holiday</th>\n",
       "      <th>rain_1h</th>\n",
       "      <th>snow_1h</th>\n",
       "      <th>clouds_all</th>\n",
       "      <th>weather_main</th>\n",
       "      <th>weather_description</th>\n",
       "      <th>date_time</th>\n",
       "      <th>traffic_volume</th>\n",
       "      <th>temp_celsius</th>\n",
       "    </tr>\n",
       "  </thead>\n",
       "  <tbody>\n",
       "    <tr>\n",
       "      <th>0</th>\n",
       "      <td>8748e5b7-5940-4e81-88e5-b759407e8142</td>\n",
       "      <td>None</td>\n",
       "      <td>0.00</td>\n",
       "      <td>0.0</td>\n",
       "      <td>75</td>\n",
       "      <td>8</td>\n",
       "      <td>10</td>\n",
       "      <td>2013-02-20 02:00:00</td>\n",
       "      <td>220</td>\n",
       "      <td>-14.26</td>\n",
       "    </tr>\n",
       "    <tr>\n",
       "      <th>1</th>\n",
       "      <td>1da8337e-2569-4208-a833-7e256942089d</td>\n",
       "      <td>None</td>\n",
       "      <td>0.00</td>\n",
       "      <td>0.0</td>\n",
       "      <td>1</td>\n",
       "      <td>0</td>\n",
       "      <td>27</td>\n",
       "      <td>2018-09-09 23:00:00</td>\n",
       "      <td>996</td>\n",
       "      <td>14.86</td>\n",
       "    </tr>\n",
       "    <tr>\n",
       "      <th>2</th>\n",
       "      <td>87ae4c94-264b-4e42-ae4c-94264b9e426a</td>\n",
       "      <td>None</td>\n",
       "      <td>0.76</td>\n",
       "      <td>0.0</td>\n",
       "      <td>64</td>\n",
       "      <td>6</td>\n",
       "      <td>18</td>\n",
       "      <td>2013-07-31 01:00:00</td>\n",
       "      <td>402</td>\n",
       "      <td>17.50</td>\n",
       "    </tr>\n",
       "    <tr>\n",
       "      <th>3</th>\n",
       "      <td>ecce0631-32ee-4500-8e06-3132eea5008a</td>\n",
       "      <td>None</td>\n",
       "      <td>0.00</td>\n",
       "      <td>0.0</td>\n",
       "      <td>75</td>\n",
       "      <td>1</td>\n",
       "      <td>2</td>\n",
       "      <td>2018-09-09 11:00:00</td>\n",
       "      <td>4273</td>\n",
       "      <td>17.63</td>\n",
       "    </tr>\n",
       "    <tr>\n",
       "      <th>4</th>\n",
       "      <td>346a7b77-6382-4830-aa7b-7763825830fd</td>\n",
       "      <td>None</td>\n",
       "      <td>0.00</td>\n",
       "      <td>0.0</td>\n",
       "      <td>1</td>\n",
       "      <td>0</td>\n",
       "      <td>27</td>\n",
       "      <td>2016-07-09 19:00:00</td>\n",
       "      <td>2903</td>\n",
       "      <td>26.16</td>\n",
       "    </tr>\n",
       "  </tbody>\n",
       "</table>\n",
       "</div>"
      ],
      "text/plain": [
       "                                    _id holiday  rain_1h  snow_1h  clouds_all  \\\n",
       "0  8748e5b7-5940-4e81-88e5-b759407e8142    None     0.00      0.0          75   \n",
       "1  1da8337e-2569-4208-a833-7e256942089d    None     0.00      0.0           1   \n",
       "2  87ae4c94-264b-4e42-ae4c-94264b9e426a    None     0.76      0.0          64   \n",
       "3  ecce0631-32ee-4500-8e06-3132eea5008a    None     0.00      0.0          75   \n",
       "4  346a7b77-6382-4830-aa7b-7763825830fd    None     0.00      0.0           1   \n",
       "\n",
       "   weather_main  weather_description            date_time  traffic_volume  \\\n",
       "0             8                   10  2013-02-20 02:00:00             220   \n",
       "1             0                   27  2018-09-09 23:00:00             996   \n",
       "2             6                   18  2013-07-31 01:00:00             402   \n",
       "3             1                    2  2018-09-09 11:00:00            4273   \n",
       "4             0                   27  2016-07-09 19:00:00            2903   \n",
       "\n",
       "   temp_celsius  \n",
       "0        -14.26  \n",
       "1         14.86  \n",
       "2         17.50  \n",
       "3         17.63  \n",
       "4         26.16  "
      ]
     },
     "execution_count": 25,
     "metadata": {},
     "output_type": "execute_result"
    }
   ],
   "source": [
    "traffic_data.head()"
   ]
  },
  {
   "cell_type": "markdown",
   "id": "a5d1b859",
   "metadata": {},
   "source": [
    "### Dropping Redundant Columns"
   ]
  },
  {
   "cell_type": "code",
   "execution_count": 26,
   "id": "df3c96a7",
   "metadata": {
    "scrolled": true
   },
   "outputs": [
    {
     "data": {
      "text/html": [
       "<div>\n",
       "<style scoped>\n",
       "    .dataframe tbody tr th:only-of-type {\n",
       "        vertical-align: middle;\n",
       "    }\n",
       "\n",
       "    .dataframe tbody tr th {\n",
       "        vertical-align: top;\n",
       "    }\n",
       "\n",
       "    .dataframe thead th {\n",
       "        text-align: right;\n",
       "    }\n",
       "</style>\n",
       "<table border=\"1\" class=\"dataframe\">\n",
       "  <thead>\n",
       "    <tr style=\"text-align: right;\">\n",
       "      <th></th>\n",
       "      <th>holiday</th>\n",
       "      <th>clouds_all</th>\n",
       "      <th>weather_main</th>\n",
       "      <th>date_time</th>\n",
       "      <th>traffic_volume</th>\n",
       "      <th>temp_celsius</th>\n",
       "    </tr>\n",
       "  </thead>\n",
       "  <tbody>\n",
       "    <tr>\n",
       "      <th>0</th>\n",
       "      <td>None</td>\n",
       "      <td>75</td>\n",
       "      <td>8</td>\n",
       "      <td>2013-02-20 02:00:00</td>\n",
       "      <td>220</td>\n",
       "      <td>-14.26</td>\n",
       "    </tr>\n",
       "    <tr>\n",
       "      <th>1</th>\n",
       "      <td>None</td>\n",
       "      <td>1</td>\n",
       "      <td>0</td>\n",
       "      <td>2018-09-09 23:00:00</td>\n",
       "      <td>996</td>\n",
       "      <td>14.86</td>\n",
       "    </tr>\n",
       "    <tr>\n",
       "      <th>2</th>\n",
       "      <td>None</td>\n",
       "      <td>64</td>\n",
       "      <td>6</td>\n",
       "      <td>2013-07-31 01:00:00</td>\n",
       "      <td>402</td>\n",
       "      <td>17.50</td>\n",
       "    </tr>\n",
       "    <tr>\n",
       "      <th>3</th>\n",
       "      <td>None</td>\n",
       "      <td>75</td>\n",
       "      <td>1</td>\n",
       "      <td>2018-09-09 11:00:00</td>\n",
       "      <td>4273</td>\n",
       "      <td>17.63</td>\n",
       "    </tr>\n",
       "    <tr>\n",
       "      <th>4</th>\n",
       "      <td>None</td>\n",
       "      <td>1</td>\n",
       "      <td>0</td>\n",
       "      <td>2016-07-09 19:00:00</td>\n",
       "      <td>2903</td>\n",
       "      <td>26.16</td>\n",
       "    </tr>\n",
       "  </tbody>\n",
       "</table>\n",
       "</div>"
      ],
      "text/plain": [
       "  holiday  clouds_all  weather_main            date_time  traffic_volume  \\\n",
       "0    None          75             8  2013-02-20 02:00:00             220   \n",
       "1    None           1             0  2018-09-09 23:00:00             996   \n",
       "2    None          64             6  2013-07-31 01:00:00             402   \n",
       "3    None          75             1  2018-09-09 11:00:00            4273   \n",
       "4    None           1             0  2016-07-09 19:00:00            2903   \n",
       "\n",
       "   temp_celsius  \n",
       "0        -14.26  \n",
       "1         14.86  \n",
       "2         17.50  \n",
       "3         17.63  \n",
       "4         26.16  "
      ]
     },
     "execution_count": 26,
     "metadata": {},
     "output_type": "execute_result"
    }
   ],
   "source": [
    "traffic_data = traffic_data.drop(['_id','rain_1h','snow_1h','weather_description'], axis=1)\n",
    "\n",
    "# Display the updated DataFrame to confirm the columns have been removed\n",
    "traffic_data.head()"
   ]
  },
  {
   "cell_type": "markdown",
   "id": "b1c9c87c",
   "metadata": {},
   "source": [
    "**The weather_description column provides an elaborated description of the weather conditions, which duplicates information already contained in the weather_main column.**"
   ]
  },
  {
   "cell_type": "markdown",
   "id": "9e06d5ed",
   "metadata": {},
   "source": [
    "### Outlier Detection & Treatment"
   ]
  },
  {
   "cell_type": "code",
   "execution_count": 27,
   "id": "d75ebe51",
   "metadata": {},
   "outputs": [
    {
     "data": {
      "image/png": "[encoded data removed]",
      "text/plain": [
       "<Figure size 1000x400 with 1 Axes>"
      ]
     },
     "metadata": {},
     "output_type": "display_data"
    }
   ],
   "source": [
    "# Set up the matplotlib figure with a 1x1 configuration\n",
    "plt.figure(figsize=(10, 4))\n",
    "\n",
    "# Boxplot for 'temp' before outlier treatment\n",
    "sns.boxplot(x=traffic_data['temp_celsius'], color='blue')\n",
    "\n",
    "# Set the title for the plot\n",
    "plt.title('Boxplot of Temperature before outlier treatment')\n",
    "\n",
    "# Adjust layout to prevent overlap\n",
    "plt.tight_layout()\n",
    "\n",
    "# Show the plot\n",
    "plt.show()"
   ]
  },
  {
   "cell_type": "markdown",
   "id": "08279ac1",
   "metadata": {},
   "source": [
    "**As shown in boxplot above, there is an anomaly in the data as the temperature of more than -250 Celcius is not possible. Let's remove the outliers.**"
   ]
  },
  {
   "cell_type": "code",
   "execution_count": 28,
   "id": "5961dab9",
   "metadata": {},
   "outputs": [
    {
     "name": "stdout",
     "output_type": "stream",
     "text": [
      "Number of outliers in 'temp_celsius': 10\n"
     ]
    }
   ],
   "source": [
    "# Calculate Q1 (25th percentile) and Q3 (75th percentile) for the 'temp' column\n",
    "Q1 = traffic_data['temp_celsius'].quantile(0.25)\n",
    "Q3 = traffic_data['temp_celsius'].quantile(0.75)\n",
    "\n",
    "# Calculate the IQR\n",
    "IQR = Q3 - Q1\n",
    "\n",
    "# Define the outlier boundaries\n",
    "lower_bound = Q1 - 1.5 * IQR\n",
    "upper_bound = Q3 + 1.5 * IQR\n",
    "\n",
    "# Identify outliers\n",
    "outliers = traffic_data[(traffic_data['temp_celsius'] < lower_bound) | (traffic_data['temp_celsius'] > upper_bound)]\n",
    "\n",
    "# Number of outliers\n",
    "num_outliers = outliers.shape[0]\n",
    "\n",
    "# Print the number of outliers\n",
    "print(f\"Number of outliers in 'temp_celsius': {num_outliers}\")"
   ]
  },
  {
   "cell_type": "code",
   "execution_count": 29,
   "id": "6f984989",
   "metadata": {},
   "outputs": [
    {
     "data": {
      "text/html": [
       "<div>\n",
       "<style scoped>\n",
       "    .dataframe tbody tr th:only-of-type {\n",
       "        vertical-align: middle;\n",
       "    }\n",
       "\n",
       "    .dataframe tbody tr th {\n",
       "        vertical-align: top;\n",
       "    }\n",
       "\n",
       "    .dataframe thead th {\n",
       "        text-align: right;\n",
       "    }\n",
       "</style>\n",
       "<table border=\"1\" class=\"dataframe\">\n",
       "  <thead>\n",
       "    <tr style=\"text-align: right;\">\n",
       "      <th></th>\n",
       "      <th>holiday</th>\n",
       "      <th>clouds_all</th>\n",
       "      <th>weather_main</th>\n",
       "      <th>date_time</th>\n",
       "      <th>traffic_volume</th>\n",
       "      <th>temp_celsius</th>\n",
       "    </tr>\n",
       "  </thead>\n",
       "  <tbody>\n",
       "    <tr>\n",
       "      <th>0</th>\n",
       "      <td>None</td>\n",
       "      <td>75</td>\n",
       "      <td>8</td>\n",
       "      <td>2013-02-20 02:00:00</td>\n",
       "      <td>220</td>\n",
       "      <td>-14.26</td>\n",
       "    </tr>\n",
       "    <tr>\n",
       "      <th>1</th>\n",
       "      <td>None</td>\n",
       "      <td>1</td>\n",
       "      <td>0</td>\n",
       "      <td>2018-09-09 23:00:00</td>\n",
       "      <td>996</td>\n",
       "      <td>14.86</td>\n",
       "    </tr>\n",
       "    <tr>\n",
       "      <th>2</th>\n",
       "      <td>None</td>\n",
       "      <td>64</td>\n",
       "      <td>6</td>\n",
       "      <td>2013-07-31 01:00:00</td>\n",
       "      <td>402</td>\n",
       "      <td>17.50</td>\n",
       "    </tr>\n",
       "    <tr>\n",
       "      <th>3</th>\n",
       "      <td>None</td>\n",
       "      <td>75</td>\n",
       "      <td>1</td>\n",
       "      <td>2018-09-09 11:00:00</td>\n",
       "      <td>4273</td>\n",
       "      <td>17.63</td>\n",
       "    </tr>\n",
       "    <tr>\n",
       "      <th>4</th>\n",
       "      <td>None</td>\n",
       "      <td>1</td>\n",
       "      <td>0</td>\n",
       "      <td>2016-07-09 19:00:00</td>\n",
       "      <td>2903</td>\n",
       "      <td>26.16</td>\n",
       "    </tr>\n",
       "  </tbody>\n",
       "</table>\n",
       "</div>"
      ],
      "text/plain": [
       "  holiday  clouds_all  weather_main            date_time  traffic_volume  \\\n",
       "0    None          75             8  2013-02-20 02:00:00             220   \n",
       "1    None           1             0  2018-09-09 23:00:00             996   \n",
       "2    None          64             6  2013-07-31 01:00:00             402   \n",
       "3    None          75             1  2018-09-09 11:00:00            4273   \n",
       "4    None           1             0  2016-07-09 19:00:00            2903   \n",
       "\n",
       "   temp_celsius  \n",
       "0        -14.26  \n",
       "1         14.86  \n",
       "2         17.50  \n",
       "3         17.63  \n",
       "4         26.16  "
      ]
     },
     "execution_count": 29,
     "metadata": {},
     "output_type": "execute_result"
    }
   ],
   "source": [
    "# Remove outliers from the DataFrame\n",
    "traffic_data = traffic_data[(traffic_data['temp_celsius'] >= lower_bound) & (traffic_data['temp_celsius'] <= upper_bound)]\n",
    "\n",
    "# Display the cleaned DataFrame\n",
    "traffic_data.head()"
   ]
  },
  {
   "cell_type": "code",
   "execution_count": 30,
   "id": "e8bcb6d3",
   "metadata": {},
   "outputs": [
    {
     "data": {
      "image/png": "[encoded data removed]",
      "text/plain": [
       "<Figure size 1000x400 with 1 Axes>"
      ]
     },
     "metadata": {},
     "output_type": "display_data"
    }
   ],
   "source": [
    "# Set up the matplotlib figure with a 1x1 configuration\n",
    "plt.figure(figsize=(10, 4))\n",
    "\n",
    "# Boxplot for 'temp' before outlier treatment\n",
    "sns.boxplot(x=traffic_data['temp_celsius'], color='blue')\n",
    "\n",
    "# Set the title for the plot\n",
    "plt.title('Boxplot of Temperature after outlier treatment')\n",
    "\n",
    "# Adjust layout to prevent overlap\n",
    "plt.tight_layout()\n",
    "\n",
    "# Show the plot\n",
    "plt.show()"
   ]
  },
  {
   "cell_type": "markdown",
   "id": "cd0d4b67",
   "metadata": {},
   "source": [
    "## Feature Engineering"
   ]
  },
  {
   "cell_type": "code",
   "execution_count": 31,
   "id": "71463187-7c23-4b64-ad9b-8a3d6beaf4db",
   "metadata": {},
   "outputs": [
    {
     "name": "stdout",
     "output_type": "stream",
     "text": [
      "Unique values in 'holiday_flag': [0 1]\n"
     ]
    }
   ],
   "source": [
    "# Create 'holiday_flag' column: 1 if the holiday column contains a holiday, otherwise 0\n",
    "traffic_data['holiday_flag'] = traffic_data['holiday'].apply(lambda x: 0 if x == 'None' else 1)\n",
    "\n",
    "# Display the unique values in the 'holiday_flag' column to verify\n",
    "print(\"Unique values in 'holiday_flag':\", traffic_data['holiday_flag'].unique())"
   ]
  },
  {
   "cell_type": "code",
   "execution_count": 32,
   "id": "54eadb83-04c1-4869-8551-90c67493c480",
   "metadata": {},
   "outputs": [
    {
     "data": {
      "application/javascript": [
       "\n",
       "        if (window._pyforest_update_imports_cell) { window._pyforest_update_imports_cell('import pandas as pd'); }\n",
       "    "
      ],
      "text/plain": [
       "<IPython.core.display.Javascript object>"
      ]
     },
     "metadata": {},
     "output_type": "display_data"
    }
   ],
   "source": [
    "# Convert the 'date_time' column from object to datetime format\n",
    "traffic_data['date_time'] = pd.to_datetime(traffic_data['date_time'])\n",
    "\n",
    "# Extract the day of the month\n",
    "traffic_data['day'] = traffic_data['date_time'].dt.day\n",
    "\n",
    "# Extract the hour\n",
    "traffic_data['hour'] = traffic_data['date_time'].dt.hour"
   ]
  },
  {
   "cell_type": "code",
   "execution_count": 33,
   "id": "5deac47d-64ba-4e36-a512-54e173615db1",
   "metadata": {},
   "outputs": [],
   "source": [
    "#Drop the 'date_time' column from the DataFrame 'traffic_data'\n",
    "\n",
    "traffic_data = traffic_data.drop('date_time', axis=1)"
   ]
  },
  {
   "cell_type": "code",
   "execution_count": 34,
   "id": "f88f4114",
   "metadata": {},
   "outputs": [],
   "source": [
    "#Drop the 'holiday' column from the DataFrame 'traffic_data'\n",
    "traffic_data = traffic_data.drop('holiday', axis=1)"
   ]
  },
  {
   "cell_type": "code",
   "execution_count": 35,
   "id": "a79d64c9",
   "metadata": {
    "scrolled": true
   },
   "outputs": [
    {
     "data": {
      "text/html": [
       "<div>\n",
       "<style scoped>\n",
       "    .dataframe tbody tr th:only-of-type {\n",
       "        vertical-align: middle;\n",
       "    }\n",
       "\n",
       "    .dataframe tbody tr th {\n",
       "        vertical-align: top;\n",
       "    }\n",
       "\n",
       "    .dataframe thead th {\n",
       "        text-align: right;\n",
       "    }\n",
       "</style>\n",
       "<table border=\"1\" class=\"dataframe\">\n",
       "  <thead>\n",
       "    <tr style=\"text-align: right;\">\n",
       "      <th></th>\n",
       "      <th>clouds_all</th>\n",
       "      <th>weather_main</th>\n",
       "      <th>traffic_volume</th>\n",
       "      <th>temp_celsius</th>\n",
       "      <th>holiday_flag</th>\n",
       "      <th>day</th>\n",
       "      <th>hour</th>\n",
       "    </tr>\n",
       "  </thead>\n",
       "  <tbody>\n",
       "    <tr>\n",
       "      <th>0</th>\n",
       "      <td>75</td>\n",
       "      <td>8</td>\n",
       "      <td>220</td>\n",
       "      <td>-14.26</td>\n",
       "      <td>0</td>\n",
       "      <td>20</td>\n",
       "      <td>2</td>\n",
       "    </tr>\n",
       "    <tr>\n",
       "      <th>1</th>\n",
       "      <td>1</td>\n",
       "      <td>0</td>\n",
       "      <td>996</td>\n",
       "      <td>14.86</td>\n",
       "      <td>0</td>\n",
       "      <td>9</td>\n",
       "      <td>23</td>\n",
       "    </tr>\n",
       "    <tr>\n",
       "      <th>2</th>\n",
       "      <td>64</td>\n",
       "      <td>6</td>\n",
       "      <td>402</td>\n",
       "      <td>17.50</td>\n",
       "      <td>0</td>\n",
       "      <td>31</td>\n",
       "      <td>1</td>\n",
       "    </tr>\n",
       "    <tr>\n",
       "      <th>3</th>\n",
       "      <td>75</td>\n",
       "      <td>1</td>\n",
       "      <td>4273</td>\n",
       "      <td>17.63</td>\n",
       "      <td>0</td>\n",
       "      <td>9</td>\n",
       "      <td>11</td>\n",
       "    </tr>\n",
       "    <tr>\n",
       "      <th>4</th>\n",
       "      <td>1</td>\n",
       "      <td>0</td>\n",
       "      <td>2903</td>\n",
       "      <td>26.16</td>\n",
       "      <td>0</td>\n",
       "      <td>9</td>\n",
       "      <td>19</td>\n",
       "    </tr>\n",
       "  </tbody>\n",
       "</table>\n",
       "</div>"
      ],
      "text/plain": [
       "   clouds_all  weather_main  traffic_volume  temp_celsius  holiday_flag  day  \\\n",
       "0          75             8             220        -14.26             0   20   \n",
       "1           1             0             996         14.86             0    9   \n",
       "2          64             6             402         17.50             0   31   \n",
       "3          75             1            4273         17.63             0    9   \n",
       "4           1             0            2903         26.16             0    9   \n",
       "\n",
       "   hour  \n",
       "0     2  \n",
       "1    23  \n",
       "2     1  \n",
       "3    11  \n",
       "4    19  "
      ]
     },
     "execution_count": 35,
     "metadata": {},
     "output_type": "execute_result"
    }
   ],
   "source": [
    "# Copying to preserve the Original Data\n",
    "traffic_data_cleaned = traffic_data.copy()\n",
    "traffic_data_cleaned.head()"
   ]
  },
  {
   "cell_type": "markdown",
   "id": "0fbee1c1",
   "metadata": {},
   "source": [
    "## Feature Standardization "
   ]
  },
  {
   "cell_type": "code",
   "execution_count": 36,
   "id": "3fd02286",
   "metadata": {},
   "outputs": [
    {
     "data": {
      "text/html": [
       "<div>\n",
       "<style scoped>\n",
       "    .dataframe tbody tr th:only-of-type {\n",
       "        vertical-align: middle;\n",
       "    }\n",
       "\n",
       "    .dataframe tbody tr th {\n",
       "        vertical-align: top;\n",
       "    }\n",
       "\n",
       "    .dataframe thead th {\n",
       "        text-align: right;\n",
       "    }\n",
       "</style>\n",
       "<table border=\"1\" class=\"dataframe\">\n",
       "  <thead>\n",
       "    <tr style=\"text-align: right;\">\n",
       "      <th></th>\n",
       "      <th>clouds_all</th>\n",
       "      <th>weather_main</th>\n",
       "      <th>traffic_volume</th>\n",
       "      <th>temp_celsius</th>\n",
       "      <th>holiday_flag</th>\n",
       "      <th>day</th>\n",
       "      <th>hour</th>\n",
       "    </tr>\n",
       "  </thead>\n",
       "  <tbody>\n",
       "    <tr>\n",
       "      <th>0</th>\n",
       "      <td>0.656899</td>\n",
       "      <td>8</td>\n",
       "      <td>220</td>\n",
       "      <td>-1.760439</td>\n",
       "      <td>0</td>\n",
       "      <td>20</td>\n",
       "      <td>2</td>\n",
       "    </tr>\n",
       "    <tr>\n",
       "      <th>1</th>\n",
       "      <td>-1.239909</td>\n",
       "      <td>0</td>\n",
       "      <td>996</td>\n",
       "      <td>0.530769</td>\n",
       "      <td>0</td>\n",
       "      <td>9</td>\n",
       "      <td>23</td>\n",
       "    </tr>\n",
       "    <tr>\n",
       "      <th>2</th>\n",
       "      <td>0.374941</td>\n",
       "      <td>6</td>\n",
       "      <td>402</td>\n",
       "      <td>0.738488</td>\n",
       "      <td>0</td>\n",
       "      <td>31</td>\n",
       "      <td>1</td>\n",
       "    </tr>\n",
       "    <tr>\n",
       "      <th>3</th>\n",
       "      <td>0.656899</td>\n",
       "      <td>1</td>\n",
       "      <td>4273</td>\n",
       "      <td>0.748717</td>\n",
       "      <td>0</td>\n",
       "      <td>9</td>\n",
       "      <td>11</td>\n",
       "    </tr>\n",
       "    <tr>\n",
       "      <th>4</th>\n",
       "      <td>-1.239909</td>\n",
       "      <td>0</td>\n",
       "      <td>2903</td>\n",
       "      <td>1.419871</td>\n",
       "      <td>0</td>\n",
       "      <td>9</td>\n",
       "      <td>19</td>\n",
       "    </tr>\n",
       "  </tbody>\n",
       "</table>\n",
       "</div>"
      ],
      "text/plain": [
       "   clouds_all  weather_main  traffic_volume  temp_celsius  holiday_flag  day  \\\n",
       "0    0.656899             8             220     -1.760439             0   20   \n",
       "1   -1.239909             0             996      0.530769             0    9   \n",
       "2    0.374941             6             402      0.738488             0   31   \n",
       "3    0.656899             1            4273      0.748717             0    9   \n",
       "4   -1.239909             0            2903      1.419871             0    9   \n",
       "\n",
       "   hour  \n",
       "0     2  \n",
       "1    23  \n",
       "2     1  \n",
       "3    11  \n",
       "4    19  "
      ]
     },
     "execution_count": 36,
     "metadata": {},
     "output_type": "execute_result"
    }
   ],
   "source": [
    "from sklearn.preprocessing import StandardScaler\n",
    "\n",
    "# List of numeric columns to standardize\n",
    "columns_to_standardize = ['clouds_all', 'temp_celsius']\n",
    "\n",
    "# Initialize the scaler\n",
    "scaler = StandardScaler()\n",
    "\n",
    "# Fit and transform the selected columns\n",
    "traffic_data_cleaned[columns_to_standardize] = scaler.fit_transform(traffic_data_cleaned[columns_to_standardize])\n",
    "\n",
    "# Display the first few rows to confirm the changes\n",
    "traffic_data_cleaned.head()"
   ]
  },
  {
   "cell_type": "code",
   "execution_count": 45,
   "id": "a5f06eeb",
   "metadata": {},
   "outputs": [
    {
     "data": {
      "text/plain": [
       "['scaler.pkl']"
      ]
     },
     "execution_count": 45,
     "metadata": {},
     "output_type": "execute_result"
    }
   ],
   "source": [
    "import joblib\n",
    "joblib.dump(scaler, 'scaler.pkl')  # Save the scaler to a file"
   ]
  },
  {
   "cell_type": "markdown",
   "id": "eb23a0d4",
   "metadata": {},
   "source": [
    "## Model Development"
   ]
  },
  {
   "cell_type": "markdown",
   "id": "f3b665d6",
   "metadata": {},
   "source": [
    "### Train Test Split"
   ]
  },
  {
   "cell_type": "code",
   "execution_count": 37,
   "id": "6e1fed5b",
   "metadata": {},
   "outputs": [],
   "source": [
    "X = traffic_data_cleaned.drop(columns=['traffic_volume'])\n",
    "y = traffic_data_cleaned['traffic_volume']\n",
    "\n",
    "# Split the data into training and testing sets (80% training, 20% testing)\n",
    "X_train, X_test, y_train, y_test = train_test_split(X, y, test_size=0.2, random_state=42)"
   ]
  },
  {
   "cell_type": "code",
   "execution_count": 38,
   "id": "3c332acb",
   "metadata": {},
   "outputs": [
    {
     "name": "stdout",
     "output_type": "stream",
     "text": [
      "Training feature set shape: (38555, 6)\n",
      "Testing feature set shape: (9639, 6)\n",
      "Training target set shape: (38555,)\n",
      "Testing target set shape: (9639,)\n"
     ]
    }
   ],
   "source": [
    "# Check the shapes of the splits\n",
    "print(f\"Training feature set shape: {X_train.shape}\")\n",
    "print(f\"Testing feature set shape: {X_test.shape}\")\n",
    "print(f\"Training target set shape: {y_train.shape}\")\n",
    "print(f\"Testing target set shape: {y_test.shape}\")"
   ]
  },
  {
   "cell_type": "markdown",
   "id": "62365d21",
   "metadata": {},
   "source": [
    "### Model Training"
   ]
  },
  {
   "cell_type": "code",
   "execution_count": 39,
   "id": "a008b6ce",
   "metadata": {},
   "outputs": [
    {
     "data": {
      "application/javascript": [
       "\n",
       "        if (window._pyforest_update_imports_cell) { window._pyforest_update_imports_cell('import pandas as pd\\nfrom sklearn.model_selection import KFold'); }\n",
       "    "
      ],
      "text/plain": [
       "<IPython.core.display.Javascript object>"
      ]
     },
     "metadata": {},
     "output_type": "display_data"
    },
    {
     "data": {
      "application/javascript": [
       "\n",
       "        if (window._pyforest_update_imports_cell) { window._pyforest_update_imports_cell('from sklearn.model_selection import cross_val_score\\nimport pandas as pd\\nfrom sklearn.model_selection import KFold'); }\n",
       "    "
      ],
      "text/plain": [
       "<IPython.core.display.Javascript object>"
      ]
     },
     "metadata": {},
     "output_type": "display_data"
    },
    {
     "data": {
      "application/javascript": [
       "\n",
       "        if (window._pyforest_update_imports_cell) { window._pyforest_update_imports_cell('from sklearn.model_selection import cross_val_score\\nimport pandas as pd\\nfrom sklearn.model_selection import KFold'); }\n",
       "    "
      ],
      "text/plain": [
       "<IPython.core.display.Javascript object>"
      ]
     },
     "metadata": {},
     "output_type": "display_data"
    },
    {
     "data": {
      "application/javascript": [
       "\n",
       "        if (window._pyforest_update_imports_cell) { window._pyforest_update_imports_cell('from sklearn.model_selection import cross_val_score\\nimport pandas as pd\\nfrom sklearn.model_selection import KFold'); }\n",
       "    "
      ],
      "text/plain": [
       "<IPython.core.display.Javascript object>"
      ]
     },
     "metadata": {},
     "output_type": "display_data"
    },
    {
     "data": {
      "application/javascript": [
       "\n",
       "        if (window._pyforest_update_imports_cell) { window._pyforest_update_imports_cell('from sklearn.model_selection import cross_val_score\\nimport pandas as pd\\nfrom sklearn.model_selection import KFold'); }\n",
       "    "
      ],
      "text/plain": [
       "<IPython.core.display.Javascript object>"
      ]
     },
     "metadata": {},
     "output_type": "display_data"
    },
    {
     "data": {
      "application/javascript": [
       "\n",
       "        if (window._pyforest_update_imports_cell) { window._pyforest_update_imports_cell('from sklearn.model_selection import cross_val_score\\nimport pandas as pd\\nfrom sklearn.model_selection import KFold'); }\n",
       "    "
      ],
      "text/plain": [
       "<IPython.core.display.Javascript object>"
      ]
     },
     "metadata": {},
     "output_type": "display_data"
    },
    {
     "data": {
      "application/javascript": [
       "\n",
       "        if (window._pyforest_update_imports_cell) { window._pyforest_update_imports_cell('from sklearn.model_selection import cross_val_score\\nimport pandas as pd\\nfrom sklearn.model_selection import KFold'); }\n",
       "    "
      ],
      "text/plain": [
       "<IPython.core.display.Javascript object>"
      ]
     },
     "metadata": {},
     "output_type": "display_data"
    },
    {
     "data": {
      "application/javascript": [
       "\n",
       "        if (window._pyforest_update_imports_cell) { window._pyforest_update_imports_cell('from sklearn.model_selection import cross_val_score\\nimport pandas as pd\\nfrom sklearn.model_selection import KFold'); }\n",
       "    "
      ],
      "text/plain": [
       "<IPython.core.display.Javascript object>"
      ]
     },
     "metadata": {},
     "output_type": "display_data"
    },
    {
     "data": {
      "application/javascript": [
       "\n",
       "        if (window._pyforest_update_imports_cell) { window._pyforest_update_imports_cell('from sklearn.model_selection import cross_val_score\\nimport pandas as pd\\nfrom sklearn.model_selection import KFold'); }\n",
       "    "
      ],
      "text/plain": [
       "<IPython.core.display.Javascript object>"
      ]
     },
     "metadata": {},
     "output_type": "display_data"
    },
    {
     "data": {
      "application/javascript": [
       "\n",
       "        if (window._pyforest_update_imports_cell) { window._pyforest_update_imports_cell('from sklearn.model_selection import cross_val_score\\nimport pandas as pd\\nfrom sklearn.model_selection import KFold'); }\n",
       "    "
      ],
      "text/plain": [
       "<IPython.core.display.Javascript object>"
      ]
     },
     "metadata": {},
     "output_type": "display_data"
    },
    {
     "data": {
      "application/javascript": [
       "\n",
       "        if (window._pyforest_update_imports_cell) { window._pyforest_update_imports_cell('from sklearn.model_selection import cross_val_score\\nimport pandas as pd\\nfrom sklearn.model_selection import KFold'); }\n",
       "    "
      ],
      "text/plain": [
       "<IPython.core.display.Javascript object>"
      ]
     },
     "metadata": {},
     "output_type": "display_data"
    },
    {
     "data": {
      "application/javascript": [
       "\n",
       "        if (window._pyforest_update_imports_cell) { window._pyforest_update_imports_cell('from sklearn.model_selection import cross_val_score\\nimport pandas as pd\\nfrom sklearn.model_selection import KFold'); }\n",
       "    "
      ],
      "text/plain": [
       "<IPython.core.display.Javascript object>"
      ]
     },
     "metadata": {},
     "output_type": "display_data"
    },
    {
     "name": "stdout",
     "output_type": "stream",
     "text": [
      "Linear Regression: R² = 0.1389\n",
      "AdaBoost: R² = 0.7353\n",
      "GradientBoost: R² = 0.7817\n",
      "RandomForest: R² = 0.8102\n",
      "CatBoost: R² = 0.8067\n",
      "XGBoost: R² = 0.8103\n"
     ]
    }
   ],
   "source": [
    "# Define models\n",
    "models = {\n",
    "    'Linear Regression': LinearRegression(),\n",
    "    'AdaBoost': AdaBoostRegressor(random_state=42),\n",
    "    'GradientBoost': GradientBoostingRegressor(random_state=42),\n",
    "    'RandomForest': RandomForestRegressor(random_state=42),\n",
    "    'CatBoost': CatBoostRegressor(verbose=0, random_seed=42),\n",
    "    'XGBoost': XGBRegressor(random_state=42)\n",
    "}\n",
    "\n",
    "# List to store r2_score\n",
    "r2_scores = []\n",
    "\n",
    "# Cross-validation\n",
    "for model_name, model in models.items():\n",
    "    data_pipeline = Pipeline(steps=[\n",
    "        ('model', model)\n",
    "    ])\n",
    "    \n",
    "    # R² Score\n",
    "    r2_score = cross_val_score(data_pipeline, X_train, y_train, cv=KFold(n_splits=10), \n",
    "                                scoring='r2', n_jobs=-1).mean()\n",
    "    r2_scores.append(r2_score)\n",
    "\n",
    "# Display the results\n",
    "for model_name, r2 in zip(models.keys(), r2_scores):\n",
    "    print(f\"{model_name}: R² = {r2:.4f}\")"
   ]
  },
  {
   "cell_type": "code",
   "execution_count": 40,
   "id": "687d554d",
   "metadata": {},
   "outputs": [
    {
     "data": {
      "image/png": "[encoded data removed]",
      "text/plain": [
       "<Figure size 600x400 with 1 Axes>"
      ]
     },
     "metadata": {},
     "output_type": "display_data"
    }
   ],
   "source": [
    "# Data for visualization\n",
    "model_names = list(models.keys())\n",
    "r2_scores = r2_scores  \n",
    "\n",
    "# Define a list of colors for each model\n",
    "colors = plt.cm.viridis(np.linspace(0, 1, len(model_names)))  \n",
    "\n",
    "# Create a bar chart\n",
    "plt.figure(figsize=(6, 4))\n",
    "bars = plt.barh(model_names, r2_scores, color=colors)\n",
    "plt.xlabel('R² Score')\n",
    "plt.title('R² Scores of Different Regression Models')\n",
    "plt.xlim(0, 1)  \n",
    "plt.axvline(x=0, color='red', linestyle='--', label='Zero Line (Baseline)')\n",
    "plt.legend()\n",
    "plt.grid(axis='x', linestyle='--', alpha=0.7)\n",
    "\n",
    "# Add value labels to each bar with exact values\n",
    "for bar in bars:\n",
    "    plt.text(bar.get_width(), bar.get_y() + bar.get_height()/2, \n",
    "             f'{bar.get_width():.4f}', va='center')\n",
    "\n",
    "# Show the plot\n",
    "plt.show()\n"
   ]
  },
  {
   "cell_type": "markdown",
   "id": "82c29b54",
   "metadata": {},
   "source": [
    "**XGBoost achieved the highest R² score of 0.8103, and we will now proceed with hyperparameter tuning for the models to optimize their performance further.**"
   ]
  },
  {
   "cell_type": "markdown",
   "id": "e0046f45",
   "metadata": {},
   "source": [
    "## Model Optimization"
   ]
  },
  {
   "cell_type": "code",
   "execution_count": 41,
   "id": "ef0feee3",
   "metadata": {},
   "outputs": [
    {
     "data": {
      "application/javascript": [
       "\n",
       "        if (window._pyforest_update_imports_cell) { window._pyforest_update_imports_cell('from sklearn.model_selection import cross_val_score\\nimport pandas as pd\\nfrom sklearn.model_selection import KFold'); }\n",
       "    "
      ],
      "text/plain": [
       "<IPython.core.display.Javascript object>"
      ]
     },
     "metadata": {},
     "output_type": "display_data"
    },
    {
     "data": {
      "application/javascript": [
       "\n",
       "        if (window._pyforest_update_imports_cell) { window._pyforest_update_imports_cell('from sklearn.model_selection import cross_val_score\\nfrom sklearn.model_selection import GridSearchCV\\nimport pandas as pd\\nfrom sklearn.model_selection import KFold'); }\n",
       "    "
      ],
      "text/plain": [
       "<IPython.core.display.Javascript object>"
      ]
     },
     "metadata": {},
     "output_type": "display_data"
    },
    {
     "name": "stdout",
     "output_type": "stream",
     "text": [
      "Fitting 10 folds for each of 108 candidates, totalling 1080 fits\n",
      "Best Parameters: {'model__colsample_bytree': 1.0, 'model__learning_rate': 0.2, 'model__max_depth': 7, 'model__n_estimators': 300, 'model__subsample': 1.0}\n",
      "Best R² Score from Grid Search: 0.8252171456813813\n"
     ]
    }
   ],
   "source": [
    "param_grid = {\n",
    "    'model__n_estimators': [100, 200, 300],\n",
    "    'model__learning_rate': [0.01, 0.1, 0.2],\n",
    "    'model__max_depth': [3, 5, 7],\n",
    "    'model__subsample': [0.8, 1.0],\n",
    "    'model__colsample_bytree': [0.8, 1.0],\n",
    "}\n",
    "\n",
    "# Create a pipeline for the XGBoost model\n",
    "data_pipeline = Pipeline(steps=[\n",
    "    ('model', XGBRegressor(random_state=42))\n",
    "])\n",
    "\n",
    "# Set up GridSearchCV for hyperparameter tuning\n",
    "grid_search = GridSearchCV(estimator=data_pipeline, \n",
    "                           param_grid=param_grid,\n",
    "                           scoring='r2', \n",
    "                           cv=KFold(n_splits=10), \n",
    "                           n_jobs=-1, \n",
    "                           verbose=2)\n",
    "\n",
    "# Fit the model\n",
    "grid_search.fit(X_train, y_train)\n",
    "\n",
    "# Get the best parameters and best score\n",
    "best_params = grid_search.best_params_\n",
    "best_score = grid_search.best_score_\n",
    "\n",
    "# Output the results\n",
    "print(\"Best Parameters:\", best_params)\n",
    "print(\"Best R² Score from Grid Search:\", best_score)"
   ]
  },
  {
   "cell_type": "markdown",
   "id": "09b5f20a",
   "metadata": {},
   "source": [
    "**After Hyperparameter Tuning, the R² Score of the XGBoost Model Improved from 0.8103 to 0.8252.**"
   ]
  },
  {
   "cell_type": "markdown",
   "id": "490b750c",
   "metadata": {},
   "source": [
    "## Model Testing"
   ]
  },
  {
   "cell_type": "code",
   "execution_count": 42,
   "id": "6180de38",
   "metadata": {},
   "outputs": [
    {
     "name": "stdout",
     "output_type": "stream",
     "text": [
      "Test Set Performance:\n",
      "Mean Absolute Error (MAE): 540.8588\n",
      "Root Mean Absolute Error (RMAE): 23.2564\n"
     ]
    }
   ],
   "source": [
    "# Create a final pipeline with the best model\n",
    "final_pipeline = Pipeline(steps=[\n",
    "    ('model', grid_search.best_estimator_.named_steps['model'])  # Use the best model from grid search\n",
    "])\n",
    "\n",
    "# Fit the final pipeline on the training data\n",
    "final_pipeline.fit(X_train, y_train)\n",
    "\n",
    "# Make predictions on the test set\n",
    "y_pred = final_pipeline.predict(X_test)\n",
    "\n",
    "\n",
    "# Calculate evaluation metrics\n",
    "mae = mean_absolute_error(y_test, y_pred)\n",
    "rmae = np.sqrt(mean_absolute_error(y_test, y_pred))\n",
    "\n",
    "# Output the results\n",
    "print(\"Test Set Performance:\")\n",
    "print(f\"Mean Absolute Error (MAE): {mae:.4f}\")\n",
    "print(f\"Root Mean Absolute Error (RMAE): {rmae:.4f}\")"
   ]
  },
  {
   "cell_type": "markdown",
   "id": "c7ad8526",
   "metadata": {},
   "source": [
    "## Exporting the Best Model for Deployment"
   ]
  },
  {
   "cell_type": "code",
   "execution_count": 43,
   "id": "2de6f47d",
   "metadata": {},
   "outputs": [
    {
     "name": "stdout",
     "output_type": "stream",
     "text": [
      "Model saved as xgboost_model.pkl\n"
     ]
    }
   ],
   "source": [
    "import pickle\n",
    "\n",
    "best_model = grid_search.best_estimator_  \n",
    "\n",
    "model_filename = 'xgboost_model.pkl'\n",
    "\n",
    "# Save the model to a file\n",
    "with open(model_filename, 'wb') as file:\n",
    "    pickle.dump(best_model, file)\n",
    "\n",
    "print(f\"Model saved as {model_filename}\")\n"
   ]
  }
 ],
 "metadata": {
  "kernelspec": {
   "display_name": "Python 3 (ipykernel)",
   "language": "python",
   "name": "python3"
  },
  "language_info": {
   "codemirror_mode": {
    "name": "ipython",
    "version": 3
   },
   "file_extension": ".py",
   "mimetype": "text/x-python",
   "name": "python",
   "nbconvert_exporter": "python",
   "pygments_lexer": "ipython3",
   "version": "3.11.4"
  }
 },
 "nbformat": 4,
 "nbformat_minor": 5
}
